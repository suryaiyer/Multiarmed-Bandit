{
 "cells": [
  {
   "cell_type": "code",
   "execution_count": 8,
   "metadata": {},
   "outputs": [],
   "source": [
    "from MultiBandit import n_multi_bandit\n",
    "from Agent import agent\n",
    "import matplotlib.pyplot as plt\n",
    "from numpy import random\n",
    "import numpy as np\n",
    "import seaborn as sns"
   ]
  },
  {
   "cell_type": "code",
   "execution_count": 2,
   "metadata": {},
   "outputs": [],
   "source": [
    "def get_alpha(algorithm, agent, num, action):\n",
    "    \n",
    "    if algorithm == 'greedy':\n",
    "        \n",
    "        if num[action] == 0:\n",
    "            return 0\n",
    "        \n",
    "        else:\n",
    "            return 1/num[action]\n",
    "        "
   ]
  },
  {
   "cell_type": "code",
   "execution_count": 3,
   "metadata": {},
   "outputs": [],
   "source": [
    "def train_agent(env, agent, algorithm, steps, trials, eps):\n",
    "    \n",
    "    rewards = [0 for i in range(steps)]\n",
    "    \n",
    "        \n",
    "    for i in range(steps):\n",
    "            \n",
    "        action = agent.get_action(eps)\n",
    "        reward = env.reward(action)\n",
    "        rewards[i] += reward\n",
    "        q_est, num = agent.agent_state()\n",
    "        \n",
    "        alpha = get_alpha(algorithm, agent, num, action)\n",
    "        \n",
    "        agent.update_reward(bandit.reward(action), action, alpha )\n",
    "        \n",
    "    return rewards\n",
    "    "
   ]
  },
  {
   "cell_type": "code",
   "execution_count": 4,
   "metadata": {},
   "outputs": [],
   "source": [
    "def plot(rewards):\n",
    "    \n",
    "    fig, ax = plt.subplots()\n",
    "    ax.figsize = (10,15)\n",
    "    ax.plot(rewards)\n",
    "    #ax.hlines(y = 8 , color = 'r', xmin = 0, xmax = steps)\n",
    "    \n",
    "    plt.title('Reward vs Steps for ' + algorithm)\n",
    "    plt.xlabel('Steps')\n",
    "    plt.ylabel('Reward')\n",
    "    \n",
    "    plt.show()"
   ]
  },
  {
   "cell_type": "markdown",
   "metadata": {},
   "source": [
    "Initialize the Bandit Problem"
   ]
  },
  {
   "cell_type": "code",
   "execution_count": 5,
   "metadata": {},
   "outputs": [],
   "source": [
    "\n",
    "def get_bandit(N):\n",
    "    Mu = [i for i in range(N)]\n",
    "    std = [1 for i in range(N)]\n",
    "    bandit = n_multi_bandit(N, Mu, std )\n",
    "    optimal_action = np.argmax(Mu)\n",
    "    \n",
    "    return bandit"
   ]
  },
  {
   "cell_type": "code",
   "execution_count": null,
   "metadata": {},
   "outputs": [],
   "source": [
    "q,s = bandit.q_star()\n",
    "\n",
    "dict = {}\n",
    "\n",
    "for i in range(len(q)):\n",
    "    dict\n",
    "\n",
    "ax = sns.violinplot(x=\"day\", y=\"total_bill\", data=tips)"
   ]
  },
  {
   "cell_type": "markdown",
   "metadata": {},
   "source": [
    "Greedy Agent with inital reward estimates to be 0"
   ]
  },
  {
   "cell_type": "code",
   "execution_count": 22,
   "metadata": {},
   "outputs": [],
   "source": [
    "N = 10\n",
    "reward = [0 for i in  range(1000)]\n",
    "bandit = get_bandit(N)\n",
    "\n",
    "for i in range(2000):\n",
    "    greedy_agent = agent(N, [], [])\n",
    "    r = train_agent(bandit, greedy_agent, 'greedy', 1000, 1, 0)\n",
    "    reward = [reward[i] + r[i] for i in range(len(reward))]\n",
    "\n",
    "reward_greedy = [r/2000 for r in reward]\n"
   ]
  },
  {
   "cell_type": "code",
   "execution_count": 23,
   "metadata": {},
   "outputs": [],
   "source": [
    "N = 10\n",
    "reward = [0 for i in  range(1000)]\n",
    "bandit = get_bandit(N)\n",
    "\n",
    "for i in range(2000):\n",
    "    eps_greedy_agent = agent(N, [], [])\n",
    "    r = train_agent(bandit, eps_greedy_agent, 'greedy', 1000, 1, 0.1)\n",
    "    reward = [reward[i] + r[i] for i in range(len(reward))]\n",
    "\n",
    "reward_eps_greedy_01 = [r/2000 for r in reward]\n"
   ]
  },
  {
   "cell_type": "code",
   "execution_count": 27,
   "metadata": {},
   "outputs": [],
   "source": [
    "N = 10\n",
    "reward = [0 for i in  range(1000)]\n",
    "bandit = get_bandit(N)\n",
    "\n",
    "for i in range(2000):\n",
    "    eps_greedy_agent = agent(N, [], [])\n",
    "    r = train_agent(bandit, eps_greedy_agent, 'greedy', 1000, 1, 0.01)\n",
    "    reward = [reward[i] + r[i] for i in range(len(reward))]\n",
    "\n",
    "reward_eps_greedy_001 = [r/2000 for r in reward]\n"
   ]
  },
  {
   "cell_type": "code",
   "execution_count": 36,
   "metadata": {},
   "outputs": [
    {
     "data": {
      "image/png": "[encoded data removed]",
      "text/plain": [
       "<Figure size 432x288 with 1 Axes>"
      ]
     },
     "metadata": {
      "needs_background": "light"
     },
     "output_type": "display_data"
    }
   ],
   "source": [
    "plt.plot(reward_greedy, color = 'r')\n",
    "plt.plot(reward_eps_greedy_01, color = 'g')\n",
    "plt.plot(reward_eps_greedy_001, color = 'b')\n",
    "\n",
    "plt.text(s ='Greedy Method', x = 400, y= 1.7)\n",
    "\n",
    "plt.text(s ='eps Greedy Method, eps = 0.1', x = 400, y= 8.4)\n",
    "\n",
    "plt.text(s ='eps Greedy Method eps = 0.01', x = 400, y= 6)\n",
    "\n",
    "plt.xlabel('Steps')\n",
    "plt.ylabel('Reward')\n",
    "\n",
    "plt.title('Reward vs Number of epochs for multiple methods')\n",
    "\n",
    "\n",
    "plt.savefig('output.png')\n",
    "\n",
    "plt.show()"
   ]
  }
 ],
 "metadata": {
  "kernelspec": {
   "display_name": "Python 3",
   "language": "python",
   "name": "python3"
  },
  "language_info": {
   "codemirror_mode": {
    "name": "ipython",
    "version": 3
   },
   "file_extension": ".py",
   "mimetype": "text/x-python",
   "name": "python",
   "nbconvert_exporter": "python",
   "pygments_lexer": "ipython3",
   "version": "3.7.4"
  }
 },
 "nbformat": 4,
 "nbformat_minor": 2
}
